!mkdir diverseensemble

import torch.nn as nn
from torch.autograd import Variable
import torch
import torchvision
import torchvision.transforms as transforms
import torchvision.models as models

transform = transforms.Compose(
    [transforms.ToTensor(),
     transforms.Normalize((0.5, 0.5, 0.5), (0.5, 0.5, 0.5))])

trainset = torchvision.datasets.CIFAR10(root='./data', train=True,
                                        download=True, transform=transform)
trainloader = torch.utils.data.DataLoader(trainset, batch_size=5,
                                          shuffle=True, num_workers=0)

nc = 3
ndf = ngf = 32
embeddingSize = 100

encoder = nn.Sequential(
      nn.Conv2d(nc, ndf, 4, 2, 1, bias=False),
      nn.BatchNorm2d(ndf),
      nn.LeakyReLU(0.2, inplace=True),
      nn.Conv2d(ndf, ndf * 2, 4, 2, 1, bias=False),
      nn.BatchNorm2d(ndf * 2),
      nn.LeakyReLU(0.2, inplace=True),
      nn.Conv2d(ndf * 2, ndf * 4, 4, 2, 1, bias=False),
      nn.BatchNorm2d(ndf * 4),
      nn.LeakyReLU(0.2, inplace=True),
      nn.Conv2d(ndf * 4, embeddingSize, 4, 1, 0, bias=False),
      nn.ReLU()
    )

decoder = nn.Sequential(
      nn.ConvTranspose2d(embeddingSize, ngf * 4, 4, 1, 0, bias=False),
      nn.BatchNorm2d(ngf * 4),
      nn.ReLU(True),
      nn.ConvTranspose2d(ngf * 4, ngf * 2, 4, 2, 1, bias=False),
      nn.BatchNorm2d(ngf * 2),
      nn.ReLU(True),
      nn.ConvTranspose2d(ngf * 2, ngf, 4, 2, 1, bias=False),
      nn.BatchNorm2d(ngf),
      nn.ReLU(True),
      nn.ConvTranspose2d(ngf, nc, 4, 2, 1, bias=False),
      nn.Tanh()
    )

import torch
import torch.nn as nn
import torch.nn.functional as F
import torch.optim as optim

class BasicBlock(nn.Module):
    expansion = 1

    def __init__(self, in_planes, planes, stride=1):
        super(BasicBlock, self).__init__()
        self.conv1 = nn.Conv2d(
            in_planes, planes, kernel_size=3, stride=stride, padding=1, bias=False)
        self.bn1 = nn.BatchNorm2d(planes)
        self.conv2 = nn.Conv2d(planes, planes, kernel_size=3,
                               stride=1, padding=1, bias=False)
        self.bn2 = nn.BatchNorm2d(planes)

        self.shortcut = nn.Sequential()
        if stride != 1 or in_planes != self.expansion*planes:
            self.shortcut = nn.Sequential(
                nn.Conv2d(in_planes, self.expansion*planes,
                          kernel_size=1, stride=stride, bias=False),
                nn.BatchNorm2d(self.expansion*planes)
            )

    def forward(self, x):
        out = F.relu(self.bn1(self.conv1(x)))
        out = self.bn2(self.conv2(out))
        out += self.shortcut(x)
        out = F.relu(out)
        return out


class Bottleneck(nn.Module):
    expansion = 4

    def __init__(self, in_planes, planes, stride=1):
        super(Bottleneck, self).__init__()
        self.conv1 = nn.Conv2d(in_planes, planes, kernel_size=1, bias=False)
        self.bn1 = nn.BatchNorm2d(planes)
        self.conv2 = nn.Conv2d(planes, planes, kernel_size=3,
                               stride=stride, padding=1, bias=False)
        self.bn2 = nn.BatchNorm2d(planes)
        self.conv3 = nn.Conv2d(planes, self.expansion *
                               planes, kernel_size=1, bias=False)
        self.bn3 = nn.BatchNorm2d(self.expansion*planes)

        self.shortcut = nn.Sequential()
        if stride != 1 or in_planes != self.expansion*planes:
            self.shortcut = nn.Sequential(
                nn.Conv2d(in_planes, self.expansion*planes,
                          kernel_size=1, stride=stride, bias=False),
                nn.BatchNorm2d(self.expansion*planes)
            )

    def forward(self, x):
        out = F.relu(self.bn1(self.conv1(x)))
        out = F.relu(self.bn2(self.conv2(out)))
        out = self.bn3(self.conv3(out))
        out += self.shortcut(x)
        out = F.relu(out)
        return out


class ResNet(nn.Module):
    def __init__(self, block, num_blocks, num_classes=10):
        super(ResNet, self).__init__()
        self.in_planes = 64

        self.conv1 = nn.Conv2d(3, 64, kernel_size=3,
                               stride=1, padding=1, bias=False)
        self.bn1 = nn.BatchNorm2d(64)
        self.layer1 = self._make_layer(block, 64, num_blocks[0], stride=1)
        self.layer2 = self._make_layer(block, 128, num_blocks[1], stride=2)
        self.layer3 = self._make_layer(block, 256, num_blocks[2], stride=2)
        self.layer4 = self._make_layer(block, 512, num_blocks[3], stride=2)
        self.linear = nn.Linear(512*block.expansion, num_classes)

    def _make_layer(self, block, planes, num_blocks, stride):
        strides = [stride] + [1]*(num_blocks-1)
        layers = []
        for stride in strides:
            layers.append(block(self.in_planes, planes, stride))
            self.in_planes = planes * block.expansion
        return nn.Sequential(*layers)

    def forward(self, x):
        out = F.relu(self.bn1(self.conv1(x)))
        out = self.layer1(out)
        out = self.layer2(out)
        out = self.layer3(out)
        out = self.layer4(out)
        out = F.avg_pool2d(out, 4)
        out = out.view(out.size(0), -1)
        out = self.linear(out)
        return out
    
    def zero_grad(self):
        """Sets gradients of all model parameters to zero."""
        for p in self.parameters():
            if p.grad is not None:
                p.grad.data.zero_()


def ResNet18():
    return ResNet(BasicBlock, [2, 2, 2, 2])


def ResNet34():
    return ResNet(BasicBlock, [3, 4, 6, 3])

 
def ResNet50():
    return ResNet(Bottleneck, [3, 4, 6, 3])


def ResNet101():
    return ResNet(Bottleneck, [3, 4, 23, 3])


def ResNet152():
    return ResNet(Bottleneck, [3, 8, 36, 3])

PATH_PREFIX = "diverseensemble/model"
PATH_POSTFIX = "weights"

ensemble = []
ensembleParameters = []

for i in range(5):
  model = ResNet34()
  model.train()
  #model.load_state_dict(torch.load(PATH_PREFIX + str(i) + PATH_POSTFIX))
  #model.eval()
  ensemble.append(model)
  ensembleParameters += list(ensemble[i].parameters())

learningRate = 0.0001

optimizer1 = torch.optim.Adam(list(encoder.parameters()) + list(decoder.parameters()), lr=learningRate)
optimizer2 = torch.optim.Adam(ensembleParameters, lr=learningRate)

# beta between 0 and 1 (1-b) * celoss + b * l2 penalty
beta = 0.7

losses = []
ensembleLosses = []
deltas = []
runningDiversity = 0
diversities = []
runningEntropy = 0
entropies = []

def getError(modelList, x, y, criterion, alpha=2, gamma=0.5):
  global runningDiversity
  global runningEntropy

  predictions = []
  ensemblePrediction = None
  bestPrediction = None
  bestLoss = None
  totalLoss = None

  index = y.item()
  for i in range(len(modelList)):
    model = modelList[i]
    yhat = model(x)
    nolabelPrediction = torch.cat([yhat[0][:index], yhat[0][index+1:]])
    normalizeOp = torch.nn.Softmax()
    normalizedPrediction = normalizeOp(yhat)
    loss = criterion(yhat, torch.tensor([index]))
    if ensemblePrediction is None: 
      ensemblePrediction = normalizedPrediction
      totalLoss = loss
      bestLoss = loss
      bestPrediction = i
    else:
      ensemblePrediction = ensemblePrediction + normalizedPrediction
      totalLoss = totalLoss + loss
      if bestLoss.item() > loss.item():
        bestLoss = loss
        bestPrediction = i
    nolabelPrediction = nolabelPrediction / (nolabelPrediction**2).sum()**0.5
    predictions.append(nolabelPrediction.view(1, -1))

  """calculating volume spanned by nonmaximal predictions"""
  #note, we are removing the prediction corresponding to the class label to prevent the diversity from decreasing
  #the performance of the ensemble
  #also removed the best performing model result as well
  del predictions[bestPrediction]
  nonmaximalPredictions = torch.cat(predictions)
  matrix = torch.mm(nonmaximalPredictions, torch.transpose(nonmaximalPredictions, 0, 1))
  gramDeterminant = torch.det(matrix)
  if gramDeterminant.item() == 0: 
    print("Error! Diversity score has been labeled as zero!")
  runningDiversity += gramDeterminant

  """calculating entropy of ensemble"""
  ensemblePrediction /= len(modelList)
  logValues = torch.log2(ensemblePrediction)
  entropy = -1 * torch.dot(ensemblePrediction[0], logValues[0])
  runningEntropy += entropy

  compositeError = totalLoss - entropy * alpha - torch.log2(gramDeterminant) * gamma
  return compositeError  

criterion = nn.CrossEntropyLoss()

import matplotlib.pyplot as plt

lrScheduler1 = optim.lr_scheduler.StepLR(optimizer1, step_size=1000)
lrScheduler2 = optim.lr_scheduler.StepLR(optimizer2, step_size=1000)

# C&W attack
for epoch in range(1):  # loop over the dataset multiple times
    running_loss = 0.0
    for batchNum, data in enumerate(trainloader, 0):
        loss = 0
        optimizer1.zero_grad()
        optimizer2.zero_grad()

        rawImages = Variable(data[0])
        embedding = encoder(rawImages).view(-1, embeddingSize, 1, 1)
        reconstruction = decoder(embedding)

        avgImageDelta = 0
        for j in range(len(reconstruction)):
          oneDelta = (reconstruction[j]**2).sum()
          if oneDelta.item() == 0:
            print("Spotted zero delta in image size...")
            avgImageDelta += oneDelta
          else:
            avgImageDelta += oneDelta ** 0.5

        avgImageDelta /= len(reconstruction)

        deltas.append(avgImageDelta)
        loss -= beta * avgImageDelta
        
        avgEnsembleError = 0
        for j in range(len(data[0])):
          perturbedImage = torch.ones(1, 3, 32, 32)
          perturbedImage[0] = data[0][j] + reconstruction[j]
          result = getError(ensemble, perturbedImage, data[1][j], criterion)
          avgEnsembleError += result

        entropies.append(runningEntropy / len(data[0]))
        diversities.append(runningDiversity / len(data[0]))

        runningEntropy = 0
        runningDiversity = 0

        avgEnsembleError /= len(data[0])
        
        loss += (1- beta) * avgEnsembleError

        loss.backward()
        for p in (list(encoder.parameters()) + list(decoder.parameters())):
            p.grad *= -1

        optimizer1.step()
        optimizer2.step()

        """if batchNum <= 3000:
          lrScheduler1.step()
          lrScheduler2.step()"""

        losses.append(loss)
        ensembleLosses.append(avgEnsembleError)

        iter = batchNum + 1
        if iter % 10 == 0: 
          print("Iteration: " + str(iter))
          print("Loss: " + str(loss))
          print("Image delta: " + str(avgImageDelta))
          print("Ensemble error: " + str(avgEnsembleError))

        if iter % 200 == 0:
          for j in range(len(ensemble)):
            torch.save(ensemble[j].state_dict(), PATH_PREFIX + str(j) + PATH_POSTFIX + str(i+1))

          plt.plot(losses)
          plt.ylabel('perturber loss')
          plt.show()

          plt.plot(ensembleLosses)
          plt.ylabel('ensemble loss')
          plt.show()

          plt.plot(deltas)
          plt.ylabel('delta size')
          plt.show()

          plt.plot(entropies)
          plt.ylabel('entropy score')
          plt.show()

          plt.plot(diversities)
          plt.ylabel('diversity score')
          plt.show()


# example
